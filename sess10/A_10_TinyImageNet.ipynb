{
  "nbformat": 4,
  "nbformat_minor": 0,
  "metadata": {
    "accelerator": "GPU",
    "colab": {
      "name": "A-10_TinyImageNet.ipynb",
      "provenance": [],
      "collapsed_sections": [],
      "machine_shape": "hm"
    },
    "kernelspec": {
      "display_name": "Python 3",
      "name": "python3"
    },
    "language_info": {
      "name": "python"
    }
  },
  "cells": [
    {
      "cell_type": "code",
      "metadata": {
        "colab": {
          "base_uri": "https://localhost:8080/"
        },
        "id": "MmmYvXKuIxYG",
        "outputId": "df9f278a-d14e-4cfb-db03-e482bdbae57c"
      },
      "source": [
        "!nvidia-smi"
      ],
      "execution_count": 1,
      "outputs": [
        {
          "output_type": "stream",
          "text": [
            "Fri Jul 16 20:08:07 2021       \n",
            "+-----------------------------------------------------------------------------+\n",
            "| NVIDIA-SMI 470.42.01    Driver Version: 460.32.03    CUDA Version: 11.2     |\n",
            "|-------------------------------+----------------------+----------------------+\n",
            "| GPU  Name        Persistence-M| Bus-Id        Disp.A | Volatile Uncorr. ECC |\n",
            "| Fan  Temp  Perf  Pwr:Usage/Cap|         Memory-Usage | GPU-Util  Compute M. |\n",
            "|                               |                      |               MIG M. |\n",
            "|===============================+======================+======================|\n",
            "|   0  Tesla P100-PCIE...  Off  | 00000000:00:04.0 Off |                    0 |\n",
            "| N/A   39C    P0    29W / 250W |      0MiB / 16280MiB |      0%      Default |\n",
            "|                               |                      |                  N/A |\n",
            "+-------------------------------+----------------------+----------------------+\n",
            "                                                                               \n",
            "+-----------------------------------------------------------------------------+\n",
            "| Processes:                                                                  |\n",
            "|  GPU   GI   CI        PID   Type   Process name                  GPU Memory |\n",
            "|        ID   ID                                                   Usage      |\n",
            "|=============================================================================|\n",
            "|  No running processes found                                                 |\n",
            "+-----------------------------------------------------------------------------+\n"
          ],
          "name": "stdout"
        }
      ]
    },
    {
      "cell_type": "code",
      "metadata": {
        "colab": {
          "base_uri": "https://localhost:8080/"
        },
        "id": "gh6kwZy4fZQR",
        "outputId": "5376d149-91bf-44a5-fba4-48e5eeb970a2"
      },
      "source": [
        "import os\n",
        "if os.path.exists(\"ml-lib\"):\n",
        "  os.system(\"rm -rf ml-lib\")\n",
        "\n",
        "!git clone https://github.com/mln00b/ml-lib.git"
      ],
      "execution_count": 2,
      "outputs": [
        {
          "output_type": "stream",
          "text": [
            "Cloning into 'ml-lib'...\n",
            "remote: Enumerating objects: 165, done.\u001b[K\n",
            "remote: Counting objects: 100% (165/165), done.\u001b[K\n",
            "remote: Compressing objects: 100% (119/119), done.\u001b[K\n",
            "remote: Total 165 (delta 70), reused 132 (delta 41), pack-reused 0\u001b[K\n",
            "Receiving objects: 100% (165/165), 21.98 KiB | 10.99 MiB/s, done.\n",
            "Resolving deltas: 100% (70/70), done.\n"
          ],
          "name": "stdout"
        }
      ]
    },
    {
      "cell_type": "code",
      "metadata": {
        "id": "iKwWuy9Kfhxv"
      },
      "source": [
        "import os, sys\n",
        "sys.path.insert(0, \"ml-lib\")\n"
      ],
      "execution_count": 3,
      "outputs": []
    },
    {
      "cell_type": "code",
      "metadata": {
        "id": "XRUZC5V184d0",
        "colab": {
          "base_uri": "https://localhost:8080/"
        },
        "outputId": "9d2aaa2b-4d7c-4ed2-ba65-6e35c516e0a3"
      },
      "source": [
        "!pip install -q albumentations==1.0.0\n",
        "!pip install -q torchsummary"
      ],
      "execution_count": 4,
      "outputs": [
        {
          "output_type": "stream",
          "text": [
            "\u001b[K     |████████████████████████████████| 102kB 7.5MB/s \n",
            "\u001b[K     |████████████████████████████████| 37.2MB 134kB/s \n",
            "\u001b[?25h"
          ],
          "name": "stdout"
        }
      ]
    },
    {
      "cell_type": "code",
      "metadata": {
        "id": "VgOBmqkrfoAr"
      },
      "source": [
        "from mllib.models.resnet import ResNet18\n",
        "from mllib.datasets.tinyimagenet import get_train_test_transform_options, get_train_test_dataloaders\n",
        "from mllib.utils.transform import get_transforms\n",
        "from mllib.train import train_and_test_classification\n",
        "from mllib.utils.plot import plot_single_run\n",
        "from tqdm.notebook import tqdm\n",
        "from PIL import Image\n",
        "import numpy as np"
      ],
      "execution_count": 5,
      "outputs": []
    },
    {
      "cell_type": "code",
      "metadata": {
        "id": "rwA1j4q6QXrK"
      },
      "source": [
        "import torch\n",
        "import torch.nn.functional as F\n",
        "import torch.optim as optim\n",
        "from torchvision import transforms\n",
        "from torch.utils.data import DataLoader\n",
        "from torchsummary import summary"
      ],
      "execution_count": 6,
      "outputs": []
    },
    {
      "cell_type": "code",
      "metadata": {
        "id": "dKTcdgdZUCE8"
      },
      "source": [
        "use_cuda = torch.cuda.is_available()\n",
        "device = torch.device(\"cuda\" if use_cuda else \"cpu\")\n",
        "np.random.seed(42)\n",
        "torch.manual_seed(42)\n",
        "if use_cuda:\n",
        "  torch.cuda.manual_seed(42)\n"
      ],
      "execution_count": 7,
      "outputs": []
    },
    {
      "cell_type": "code",
      "metadata": {
        "id": "faLYcUsMfxTC"
      },
      "source": [
        "NUM_CLASSES = 200"
      ],
      "execution_count": 8,
      "outputs": []
    },
    {
      "cell_type": "code",
      "metadata": {
        "colab": {
          "base_uri": "https://localhost:8080/"
        },
        "id": "NGKEPfi7YguA",
        "outputId": "070c9b0a-7cfe-490c-8ea4-8813a5210a07"
      },
      "source": [
        "model =  ResNet18(num_classes=NUM_CLASSES).to(device)\n",
        "print(summary(model, (3,64,64)))"
      ],
      "execution_count": 9,
      "outputs": [
        {
          "output_type": "stream",
          "text": [
            "----------------------------------------------------------------\n",
            "        Layer (type)               Output Shape         Param #\n",
            "================================================================\n",
            "            Conv2d-1           [-1, 64, 64, 64]           1,728\n",
            "       BatchNorm2d-2           [-1, 64, 64, 64]             128\n",
            "            Conv2d-3           [-1, 64, 64, 64]          36,864\n",
            "       BatchNorm2d-4           [-1, 64, 64, 64]             128\n",
            "            Conv2d-5           [-1, 64, 64, 64]          36,864\n",
            "       BatchNorm2d-6           [-1, 64, 64, 64]             128\n",
            "        BasicBlock-7           [-1, 64, 64, 64]               0\n",
            "            Conv2d-8           [-1, 64, 64, 64]          36,864\n",
            "       BatchNorm2d-9           [-1, 64, 64, 64]             128\n",
            "           Conv2d-10           [-1, 64, 64, 64]          36,864\n",
            "      BatchNorm2d-11           [-1, 64, 64, 64]             128\n",
            "       BasicBlock-12           [-1, 64, 64, 64]               0\n",
            "           Conv2d-13          [-1, 128, 32, 32]          73,728\n",
            "      BatchNorm2d-14          [-1, 128, 32, 32]             256\n",
            "           Conv2d-15          [-1, 128, 32, 32]         147,456\n",
            "      BatchNorm2d-16          [-1, 128, 32, 32]             256\n",
            "           Conv2d-17          [-1, 128, 32, 32]           8,192\n",
            "      BatchNorm2d-18          [-1, 128, 32, 32]             256\n",
            "       BasicBlock-19          [-1, 128, 32, 32]               0\n",
            "           Conv2d-20          [-1, 128, 32, 32]         147,456\n",
            "      BatchNorm2d-21          [-1, 128, 32, 32]             256\n",
            "           Conv2d-22          [-1, 128, 32, 32]         147,456\n",
            "      BatchNorm2d-23          [-1, 128, 32, 32]             256\n",
            "       BasicBlock-24          [-1, 128, 32, 32]               0\n",
            "           Conv2d-25          [-1, 256, 16, 16]         294,912\n",
            "      BatchNorm2d-26          [-1, 256, 16, 16]             512\n",
            "           Conv2d-27          [-1, 256, 16, 16]         589,824\n",
            "      BatchNorm2d-28          [-1, 256, 16, 16]             512\n",
            "           Conv2d-29          [-1, 256, 16, 16]          32,768\n",
            "      BatchNorm2d-30          [-1, 256, 16, 16]             512\n",
            "       BasicBlock-31          [-1, 256, 16, 16]               0\n",
            "           Conv2d-32          [-1, 256, 16, 16]         589,824\n",
            "      BatchNorm2d-33          [-1, 256, 16, 16]             512\n",
            "           Conv2d-34          [-1, 256, 16, 16]         589,824\n",
            "      BatchNorm2d-35          [-1, 256, 16, 16]             512\n",
            "       BasicBlock-36          [-1, 256, 16, 16]               0\n",
            "           Conv2d-37            [-1, 512, 8, 8]       1,179,648\n",
            "      BatchNorm2d-38            [-1, 512, 8, 8]           1,024\n",
            "           Conv2d-39            [-1, 512, 8, 8]       2,359,296\n",
            "      BatchNorm2d-40            [-1, 512, 8, 8]           1,024\n",
            "           Conv2d-41            [-1, 512, 8, 8]         131,072\n",
            "      BatchNorm2d-42            [-1, 512, 8, 8]           1,024\n",
            "       BasicBlock-43            [-1, 512, 8, 8]               0\n",
            "           Conv2d-44            [-1, 512, 8, 8]       2,359,296\n",
            "      BatchNorm2d-45            [-1, 512, 8, 8]           1,024\n",
            "           Conv2d-46            [-1, 512, 8, 8]       2,359,296\n",
            "      BatchNorm2d-47            [-1, 512, 8, 8]           1,024\n",
            "       BasicBlock-48            [-1, 512, 8, 8]               0\n",
            "           Linear-49                  [-1, 200]         102,600\n",
            "================================================================\n",
            "Total params: 11,271,432\n",
            "Trainable params: 11,271,432\n",
            "Non-trainable params: 0\n",
            "----------------------------------------------------------------\n",
            "Input size (MB): 0.05\n",
            "Forward/backward pass size (MB): 45.00\n",
            "Params size (MB): 43.00\n",
            "Estimated Total Size (MB): 88.05\n",
            "----------------------------------------------------------------\n",
            "None\n"
          ],
          "name": "stdout"
        }
      ]
    },
    {
      "cell_type": "code",
      "metadata": {
        "id": "_-bh7YCEQZ2n",
        "colab": {
          "base_uri": "https://localhost:8080/"
        },
        "outputId": "7b0bbf51-52d6-40f0-932f-c2f5d2f8686b"
      },
      "source": [
        "train_transform_options, test_transform_options = get_train_test_transform_options()\n",
        "print(\"train_transform_options: \", train_transform_options)\n",
        "print(\"test_transform_options: \", test_transform_options)"
      ],
      "execution_count": 10,
      "outputs": [
        {
          "output_type": "stream",
          "text": [
            "train_transform_options:  [{'ty': 'Pad', 'config': {'min_height': 72, 'min_width': 72, 'always_apply': True}}, {'ty': 'RandomCrop', 'config': {'height': 64, 'width': 64, 'p': 1}}, {'ty': 'HorizontalFlip', 'config': {'p': 0.5}}, {'ty': 'CoarseDropout', 'config': {'max_holes': 1, 'min_holes': 1, 'max_height': 32, 'max_width': 32, 'p': 0.5, 'fill_value': (122.51178945, 114.2915559, 101.3880867), 'min_height': 32, 'min_width': 32}}, {'ty': 'Normalize', 'config': {'mean': [0.48043839, 0.44820218, 0.39760034], 'std': [0.27698959, 0.26908774, 0.28216029], 'always_apply': True}}]\n",
            "test_transform_options:  [{'ty': 'Normalize', 'config': {'mean': [0.48043839, 0.44820218, 0.39760034], 'std': [0.27698959, 0.26908774, 0.28216029], 'always_apply': True}}]\n"
          ],
          "name": "stdout"
        }
      ]
    },
    {
      "cell_type": "code",
      "metadata": {
        "id": "zfSmpWpkcDqP"
      },
      "source": [
        "train_transforms = get_transforms(train_transform_options)\n",
        "test_transforms = get_transforms(test_transform_options)"
      ],
      "execution_count": 11,
      "outputs": []
    },
    {
      "cell_type": "code",
      "metadata": {
        "id": "rJrcOdawSoii",
        "colab": {
          "base_uri": "https://localhost:8080/"
        },
        "outputId": "fb61a43b-259f-4a4a-9fdc-625e07b7edbb"
      },
      "source": [
        "train_loader, test_loader = get_train_test_dataloaders(\n",
        "    train_bs=512, test_bs=128, \n",
        "    train_transforms = train_transforms, test_transforms = test_transforms, \n",
        "    use_cuda=use_cuda)\n",
        "print(len(train_loader), len(test_loader))"
      ],
      "execution_count": 12,
      "outputs": [
        {
          "output_type": "stream",
          "text": [
            "196 79\n"
          ],
          "name": "stdout"
        }
      ]
    },
    {
      "cell_type": "code",
      "metadata": {
        "id": "umFFLCtvYqoU"
      },
      "source": [
        "EPOCHS = 10\n",
        "LR = 1.0\n",
        "MOMENTUM = 0.9\n",
        "WD = 0\n",
        "\n",
        "loss_fn = F.cross_entropy\n",
        "optimizer = optim.SGD(model.parameters(), lr=LR, momentum=MOMENTUM, weight_decay=WD)"
      ],
      "execution_count": 13,
      "outputs": []
    },
    {
      "cell_type": "code",
      "metadata": {
        "id": "xmJlDkr7DsBM"
      },
      "source": [
        "optimizer = optim.SGD(model.parameters(), lr=LR, momentum=MOMENTUM, weight_decay=WD)"
      ],
      "execution_count": 14,
      "outputs": []
    },
    {
      "cell_type": "code",
      "metadata": {
        "id": "0uIhGNy-bMp-"
      },
      "source": [
        "scheduler = torch.optim.lr_scheduler.OneCycleLR(\n",
        "    optimizer, max_lr=LR, \n",
        "    steps_per_epoch=len(train_loader), \n",
        "    epochs=EPOCHS,\n",
        "    anneal_strategy='linear')"
      ],
      "execution_count": 15,
      "outputs": []
    },
    {
      "cell_type": "code",
      "metadata": {
        "id": "TW2VS8teT0wE",
        "colab": {
          "base_uri": "https://localhost:8080/"
        },
        "outputId": "1669be74-5b15-4117-a51b-03d88bcaa5f3"
      },
      "source": [
        "train_losses, test_losses, train_acc, test_acc = train_and_test_classification(\n",
        "    model=model, device=device, \n",
        "    train_loader=train_loader, test_loader=test_loader, \n",
        "    optimizer=optimizer, loss_fn=loss_fn, scheduler=scheduler,\n",
        "    epochs=EPOCHS)"
      ],
      "execution_count": 16,
      "outputs": [
        {
          "output_type": "stream",
          "text": [
            "\r  0%|          | 0/196 [00:00<?, ?it/s]"
          ],
          "name": "stderr"
        },
        {
          "output_type": "stream",
          "text": [
            "EPOCH: 0\n"
          ],
          "name": "stdout"
        },
        {
          "output_type": "stream",
          "text": [
            "Loss=4.205183506011963 Batch_id=195 Accuracy=5.23: 100%|██████████| 196/196 [02:52<00:00,  1.14it/s]\n",
            "  0%|          | 0/196 [00:00<?, ?it/s]"
          ],
          "name": "stderr"
        },
        {
          "output_type": "stream",
          "text": [
            "\n",
            "Test set: Average loss: 4.4324, Accuracy: 785/10000 (7.85%)\n",
            "\n",
            "EPOCH: 1\n"
          ],
          "name": "stdout"
        },
        {
          "output_type": "stream",
          "text": [
            "Loss=3.776796340942383 Batch_id=195 Accuracy=12.85: 100%|██████████| 196/196 [02:51<00:00,  1.14it/s]\n",
            "  0%|          | 0/196 [00:00<?, ?it/s]"
          ],
          "name": "stderr"
        },
        {
          "output_type": "stream",
          "text": [
            "\n",
            "Test set: Average loss: 3.8093, Accuracy: 1523/10000 (15.23%)\n",
            "\n",
            "EPOCH: 2\n"
          ],
          "name": "stdout"
        },
        {
          "output_type": "stream",
          "text": [
            "Loss=3.304835796356201 Batch_id=195 Accuracy=19.87: 100%|██████████| 196/196 [02:51<00:00,  1.14it/s]\n",
            "  0%|          | 0/196 [00:00<?, ?it/s]"
          ],
          "name": "stderr"
        },
        {
          "output_type": "stream",
          "text": [
            "\n",
            "Test set: Average loss: 3.8249, Accuracy: 1781/10000 (17.81%)\n",
            "\n",
            "EPOCH: 3\n"
          ],
          "name": "stdout"
        },
        {
          "output_type": "stream",
          "text": [
            "Loss=2.946275234222412 Batch_id=195 Accuracy=26.40: 100%|██████████| 196/196 [02:51<00:00,  1.14it/s]\n",
            "  0%|          | 0/196 [00:00<?, ?it/s]"
          ],
          "name": "stderr"
        },
        {
          "output_type": "stream",
          "text": [
            "\n",
            "Test set: Average loss: 3.2926, Accuracy: 2506/10000 (25.06%)\n",
            "\n",
            "EPOCH: 4\n"
          ],
          "name": "stdout"
        },
        {
          "output_type": "stream",
          "text": [
            "Loss=2.811544895172119 Batch_id=195 Accuracy=32.18: 100%|██████████| 196/196 [02:51<00:00,  1.14it/s]\n",
            "  0%|          | 0/196 [00:00<?, ?it/s]"
          ],
          "name": "stderr"
        },
        {
          "output_type": "stream",
          "text": [
            "\n",
            "Test set: Average loss: 2.9463, Accuracy: 3122/10000 (31.22%)\n",
            "\n",
            "EPOCH: 5\n"
          ],
          "name": "stdout"
        },
        {
          "output_type": "stream",
          "text": [
            "Loss=2.494019031524658 Batch_id=195 Accuracy=37.21: 100%|██████████| 196/196 [02:51<00:00,  1.14it/s]\n",
            "  0%|          | 0/196 [00:00<?, ?it/s]"
          ],
          "name": "stderr"
        },
        {
          "output_type": "stream",
          "text": [
            "\n",
            "Test set: Average loss: 2.5638, Accuracy: 3874/10000 (38.74%)\n",
            "\n",
            "EPOCH: 6\n"
          ],
          "name": "stdout"
        },
        {
          "output_type": "stream",
          "text": [
            "Loss=2.335542678833008 Batch_id=195 Accuracy=41.53: 100%|██████████| 196/196 [02:51<00:00,  1.14it/s]\n",
            "  0%|          | 0/196 [00:00<?, ?it/s]"
          ],
          "name": "stderr"
        },
        {
          "output_type": "stream",
          "text": [
            "\n",
            "Test set: Average loss: 2.5541, Accuracy: 3988/10000 (39.88%)\n",
            "\n",
            "EPOCH: 7\n"
          ],
          "name": "stdout"
        },
        {
          "output_type": "stream",
          "text": [
            "Loss=1.9718897342681885 Batch_id=195 Accuracy=45.53: 100%|██████████| 196/196 [02:51<00:00,  1.14it/s]\n",
            "  0%|          | 0/196 [00:00<?, ?it/s]"
          ],
          "name": "stderr"
        },
        {
          "output_type": "stream",
          "text": [
            "\n",
            "Test set: Average loss: 2.3400, Accuracy: 4412/10000 (44.12%)\n",
            "\n",
            "EPOCH: 8\n"
          ],
          "name": "stdout"
        },
        {
          "output_type": "stream",
          "text": [
            "Loss=2.019568681716919 Batch_id=195 Accuracy=49.98: 100%|██████████| 196/196 [02:51<00:00,  1.14it/s]\n",
            "  0%|          | 0/196 [00:00<?, ?it/s]"
          ],
          "name": "stderr"
        },
        {
          "output_type": "stream",
          "text": [
            "\n",
            "Test set: Average loss: 2.1442, Accuracy: 4819/10000 (48.19%)\n",
            "\n",
            "EPOCH: 9\n"
          ],
          "name": "stdout"
        },
        {
          "output_type": "stream",
          "text": [
            "Loss=1.759108543395996 Batch_id=195 Accuracy=55.20: 100%|██████████| 196/196 [02:51<00:00,  1.14it/s]\n"
          ],
          "name": "stderr"
        },
        {
          "output_type": "stream",
          "text": [
            "\n",
            "Test set: Average loss: 1.9202, Accuracy: 5380/10000 (53.80%)\n",
            "\n"
          ],
          "name": "stdout"
        }
      ]
    },
    {
      "cell_type": "code",
      "metadata": {
        "id": "n6vPTNLIRp4L",
        "colab": {
          "base_uri": "https://localhost:8080/",
          "height": 663
        },
        "outputId": "f3d7e049-a808-47ce-e7b5-441b33ca0727"
      },
      "source": [
        "plot_single_run(title=\"TinyImageNet\", train_losses=train_losses, test_losses=test_losses, train_acc=train_acc,test_acc=test_acc)"
      ],
      "execution_count": 17,
      "outputs": [
        {
          "output_type": "display_data",
          "data": {
            "image/png": "[encoded data removed]",
            "text/plain": [
              "<Figure size 1080x720 with 4 Axes>"
            ]
          },
          "metadata": {
            "tags": [],
            "needs_background": "light"
          }
        }
      ]
    },
    {
      "cell_type": "code",
      "metadata": {
        "id": "w8G67H9rqXlO"
      },
      "source": [
        ""
      ],
      "execution_count": 17,
      "outputs": []
    },
    {
      "cell_type": "code",
      "metadata": {
        "id": "P55W6Dp3sE3C"
      },
      "source": [
        ""
      ],
      "execution_count": 17,
      "outputs": []
    }
  ]
}