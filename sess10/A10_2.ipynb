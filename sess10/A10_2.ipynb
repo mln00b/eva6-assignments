{
  "nbformat": 4,
  "nbformat_minor": 0,
  "metadata": {
    "colab": {
      "name": "A10-2.ipynb",
      "provenance": []
    },
    "kernelspec": {
      "name": "python3",
      "display_name": "Python 3"
    },
    "language_info": {
      "name": "python"
    }
  },
  "cells": [
    {
      "cell_type": "code",
      "metadata": {
        "colab": {
          "base_uri": "https://localhost:8080/"
        },
        "id": "4DFrxkVDditH",
        "outputId": "f4d70991-d369-4a7e-d8a3-dcdb4c0c962c"
      },
      "source": [
        "!wget https://raw.githubusercontent.com/mln00b/eva6-assignments/main/sess10/sample_coco.csv"
      ],
      "execution_count": 1,
      "outputs": [
        {
          "output_type": "stream",
          "text": [
            "--2021-07-17 13:42:35--  https://raw.githubusercontent.com/mln00b/eva6-assignments/main/sess10/sample_coco.csv\n",
            "Resolving raw.githubusercontent.com (raw.githubusercontent.com)... 185.199.110.133, 185.199.111.133, 185.199.108.133, ...\n",
            "Connecting to raw.githubusercontent.com (raw.githubusercontent.com)|185.199.110.133|:443... connected.\n",
            "HTTP request sent, awaiting response... 200 OK\n",
            "Length: 834699 (815K) [text/plain]\n",
            "Saving to: ‘sample_coco.csv’\n",
            "\n",
            "sample_coco.csv     100%[===================>] 815.14K  --.-KB/s    in 0.05s   \n",
            "\n",
            "2021-07-17 13:42:35 (16.2 MB/s) - ‘sample_coco.csv’ saved [834699/834699]\n",
            "\n"
          ],
          "name": "stdout"
        }
      ]
    },
    {
      "cell_type": "code",
      "metadata": {
        "id": "IXHM0WfhmRZd"
      },
      "source": [
        "import pandas as pd\n",
        "import numpy as np\n",
        "import matplotlib\n",
        "import matplotlib.pyplot as plt\n",
        "from sklearn.cluster import KMeans"
      ],
      "execution_count": 2,
      "outputs": []
    },
    {
      "cell_type": "code",
      "metadata": {
        "colab": {
          "base_uri": "https://localhost:8080/",
          "height": 204
        },
        "id": "0FcJgJ6OeIiu",
        "outputId": "b7a9acfd-57fd-4de8-8f16-e7ad87a78eca"
      },
      "source": [
        "df = pd.read_csv(\"sample_coco.csv\")\n",
        "df.head()"
      ],
      "execution_count": 3,
      "outputs": [
        {
          "output_type": "execute_result",
          "data": {
            "text/html": [
              "<div>\n",
              "<style scoped>\n",
              "    .dataframe tbody tr th:only-of-type {\n",
              "        vertical-align: middle;\n",
              "    }\n",
              "\n",
              "    .dataframe tbody tr th {\n",
              "        vertical-align: top;\n",
              "    }\n",
              "\n",
              "    .dataframe thead th {\n",
              "        text-align: right;\n",
              "    }\n",
              "</style>\n",
              "<table border=\"1\" class=\"dataframe\">\n",
              "  <thead>\n",
              "    <tr style=\"text-align: right;\">\n",
              "      <th></th>\n",
              "      <th>class_id</th>\n",
              "      <th>img_height</th>\n",
              "      <th>img_width</th>\n",
              "      <th>bbox_y</th>\n",
              "      <th>bbox_x</th>\n",
              "      <th>bbox_h</th>\n",
              "      <th>bbox_w</th>\n",
              "      <th>norm_img_height</th>\n",
              "      <th>norm_img_width</th>\n",
              "      <th>norm_bbox_y</th>\n",
              "      <th>norm_bbox_x</th>\n",
              "      <th>norm_bbox_w</th>\n",
              "      <th>norm_bbox_h</th>\n",
              "    </tr>\n",
              "  </thead>\n",
              "  <tbody>\n",
              "    <tr>\n",
              "      <th>0</th>\n",
              "      <td>0</td>\n",
              "      <td>330</td>\n",
              "      <td>1093</td>\n",
              "      <td>69</td>\n",
              "      <td>464</td>\n",
              "      <td>312</td>\n",
              "      <td>175</td>\n",
              "      <td>1</td>\n",
              "      <td>1</td>\n",
              "      <td>0.209091</td>\n",
              "      <td>0.424520</td>\n",
              "      <td>0.160110</td>\n",
              "      <td>0.945455</td>\n",
              "    </tr>\n",
              "    <tr>\n",
              "      <th>1</th>\n",
              "      <td>1</td>\n",
              "      <td>782</td>\n",
              "      <td>439</td>\n",
              "      <td>359</td>\n",
              "      <td>292</td>\n",
              "      <td>83</td>\n",
              "      <td>199</td>\n",
              "      <td>1</td>\n",
              "      <td>1</td>\n",
              "      <td>0.459079</td>\n",
              "      <td>0.665148</td>\n",
              "      <td>0.453303</td>\n",
              "      <td>0.106138</td>\n",
              "    </tr>\n",
              "    <tr>\n",
              "      <th>2</th>\n",
              "      <td>3</td>\n",
              "      <td>645</td>\n",
              "      <td>831</td>\n",
              "      <td>297</td>\n",
              "      <td>312</td>\n",
              "      <td>267</td>\n",
              "      <td>167</td>\n",
              "      <td>1</td>\n",
              "      <td>1</td>\n",
              "      <td>0.460465</td>\n",
              "      <td>0.375451</td>\n",
              "      <td>0.200963</td>\n",
              "      <td>0.413953</td>\n",
              "    </tr>\n",
              "    <tr>\n",
              "      <th>3</th>\n",
              "      <td>34</td>\n",
              "      <td>943</td>\n",
              "      <td>608</td>\n",
              "      <td>275</td>\n",
              "      <td>112</td>\n",
              "      <td>319</td>\n",
              "      <td>290</td>\n",
              "      <td>1</td>\n",
              "      <td>1</td>\n",
              "      <td>0.291622</td>\n",
              "      <td>0.184211</td>\n",
              "      <td>0.476974</td>\n",
              "      <td>0.338282</td>\n",
              "    </tr>\n",
              "    <tr>\n",
              "      <th>4</th>\n",
              "      <td>20</td>\n",
              "      <td>593</td>\n",
              "      <td>857</td>\n",
              "      <td>71</td>\n",
              "      <td>368</td>\n",
              "      <td>146</td>\n",
              "      <td>147</td>\n",
              "      <td>1</td>\n",
              "      <td>1</td>\n",
              "      <td>0.119730</td>\n",
              "      <td>0.429405</td>\n",
              "      <td>0.171529</td>\n",
              "      <td>0.246206</td>\n",
              "    </tr>\n",
              "  </tbody>\n",
              "</table>\n",
              "</div>"
            ],
            "text/plain": [
              "   class_id  img_height  img_width  ...  norm_bbox_x  norm_bbox_w  norm_bbox_h\n",
              "0         0         330       1093  ...     0.424520     0.160110     0.945455\n",
              "1         1         782        439  ...     0.665148     0.453303     0.106138\n",
              "2         3         645        831  ...     0.375451     0.200963     0.413953\n",
              "3        34         943        608  ...     0.184211     0.476974     0.338282\n",
              "4        20         593        857  ...     0.429405     0.171529     0.246206\n",
              "\n",
              "[5 rows x 13 columns]"
            ]
          },
          "metadata": {
            "tags": []
          },
          "execution_count": 3
        }
      ]
    },
    {
      "cell_type": "code",
      "metadata": {
        "id": "u4gHZyo7esFA"
      },
      "source": [
        "unique, counts = np.unique(df[\"class_id\"], return_counts=True)"
      ],
      "execution_count": 4,
      "outputs": []
    },
    {
      "cell_type": "code",
      "metadata": {
        "colab": {
          "base_uri": "https://localhost:8080/"
        },
        "id": "vRMMpPMqmOqr",
        "outputId": "dbe042e0-0242-4f3d-a4a6-bcba722780ad"
      },
      "source": [
        "print(\"Num Classes: \", len(unique))"
      ],
      "execution_count": 5,
      "outputs": [
        {
          "output_type": "stream",
          "text": [
            "Num Classes:  80\n"
          ],
          "name": "stdout"
        }
      ]
    },
    {
      "cell_type": "code",
      "metadata": {
        "colab": {
          "base_uri": "https://localhost:8080/",
          "height": 312
        },
        "id": "TKe75VNWmryR",
        "outputId": "88021fc0-d0e5-4aba-ff8a-fbf7cc9b440a"
      },
      "source": [
        "plt.bar(unique, counts)\n",
        "plt.title('Class Distribution')\n",
        "plt.xlabel('Class Id')\n",
        "plt.ylabel('Frequency')"
      ],
      "execution_count": 6,
      "outputs": [
        {
          "output_type": "execute_result",
          "data": {
            "text/plain": [
              "Text(0, 0.5, 'Frequency')"
            ]
          },
          "metadata": {
            "tags": []
          },
          "execution_count": 6
        },
        {
          "output_type": "display_data",
          "data": {
            "image/png": "[encoded data removed]",
            "text/plain": [
              "<Figure size 432x288 with 1 Axes>"
            ]
          },
          "metadata": {
            "tags": [],
            "needs_background": "light"
          }
        }
      ]
    },
    {
      "cell_type": "code",
      "metadata": {
        "colab": {
          "base_uri": "https://localhost:8080/"
        },
        "id": "Znoqn7aRncQW",
        "outputId": "8dfa40a1-bb16-40b2-c53d-da65ecc8ee2d"
      },
      "source": [
        "wh = df[[\"norm_bbox_w\", \"norm_bbox_h\"]]\n",
        "num_clusters = [3, 4, 5, 6]\n",
        "anchors_ls = []\n",
        "for i, num_cluster in enumerate(num_clusters):\n",
        "    kmeans = KMeans(n_clusters=num_cluster, init='k-means++', max_iter=300, n_init=10, random_state=0)\n",
        "    pred = kmeans.fit_predict(wh)\n",
        "    anchors = kmeans.cluster_centers_\n",
        "    print(\"Anchors: \", anchors)\n",
        "    anchors_ls.append(anchors)"
      ],
      "execution_count": 7,
      "outputs": [
        {
          "output_type": "stream",
          "text": [
            "Anchors:  [[0.28974134 0.28711913]\n",
            " [0.69289688 0.20134954]\n",
            " [0.20031795 0.69201832]]\n",
            "Anchors:  [[0.49395323 0.23465354]\n",
            " [0.20139058 0.74280724]\n",
            " [0.22350963 0.3259426 ]\n",
            " [0.99057558 0.15940826]]\n",
            "Anchors:  [[0.22548399 0.22692335]\n",
            " [0.15402617 0.99619036]\n",
            " [0.51352989 0.23484426]\n",
            " [1.00474685 0.15753439]\n",
            " [0.24406117 0.51136221]]\n",
            "Anchors:  [[0.5546443  0.17502765]\n",
            " [0.18121752 0.55018471]\n",
            " [0.22449003 0.22389558]\n",
            " [1.0917331  0.15414845]\n",
            " [0.15521382 1.06159694]\n",
            " [0.41654505 0.40994462]]\n"
          ],
          "name": "stdout"
        }
      ]
    },
    {
      "cell_type": "code",
      "metadata": {
        "colab": {
          "base_uri": "https://localhost:8080/",
          "height": 1000
        },
        "id": "YqBCU0Woov_M",
        "outputId": "d37f54b0-6fd5-4cb9-cffc-affc3e9c40a4"
      },
      "source": [
        "fig, axes = plt.subplots(len(num_clusters), 1, figsize = (5, 20))\n",
        "\n",
        "for i, num_cluster in enumerate(num_clusters):\n",
        "  ax = axes[i]\n",
        "  ax.set_title(f\"{num_cluster} clusters\")\n",
        "  anchors = anchors_ls[i]\n",
        "  for anchor in anchors:\n",
        "    ax.add_patch(matplotlib.patches.Rectangle(\n",
        "        (-anchor[0]/2 + 0.5, -anchor[1]/2 + 0.5),anchor[0], anchor[1],\n",
        "        fill=False))\n",
        "\n",
        "plt.show()"
      ],
      "execution_count": 8,
      "outputs": [
        {
          "output_type": "display_data",
          "data": {
            "image/png": "[encoded data removed]",
            "text/plain": [
              "<Figure size 360x1440 with 4 Axes>"
            ]
          },
          "metadata": {
            "tags": [],
            "needs_background": "light"
          }
        }
      ]
    },
    {
      "cell_type": "code",
      "metadata": {
        "id": "lZNwB2Y1r3jw"
      },
      "source": [
        ""
      ],
      "execution_count": 8,
      "outputs": []
    }
  ]
}